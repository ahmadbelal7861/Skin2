
{
 "cells": [
  {
   "cell_type": "code",
   "execution_count": 7,
   "metadata": {},
   "outputs": [
    {
     "name": "stderr",
     "output_type": "stream",
     "text": [
      "Processing <PIL.Image.Image image mode=RGBA size=150x150 at 0x7F3DE00D6748>:   9%|▉         | 9/100 [00:00<00:00, 100.61 Samples/s]"
     ]
    },
    {
     "name": "stdout",
     "output_type": "stream",
     "text": [
      "Initialised with 100 image(s) found.\n",
      "Output directory set to /home/belal/anaconda3/envs/tensorflow2/models-master/research/model/triplet/work_dir/validation/1/output."
     ]
    },
    {
     "name": "stderr",
     "output_type": "stream",
     "text": [
      "Processing <PIL.Image.Image image mode=RGBA size=150x150 at 0x7F3DE0129A20>: 100%|██████████| 100/100 [00:00<00:00, 137.40 Samples/s]\n",
      "Processing <PIL.Image.Image image mode=RGBA size=150x150 at 0x7F3DC81C7518>: 100%|██████████| 1300/1300 [00:05<00:00, 221.46 Samples/s]\n",
      "Processing <PIL.Image.Image image mode=RGBA size=150x150 at 0x7F3DC8715EB8>: 100%|██████████| 100/100 [00:00<00:00, 157.10 Samples/s]\n"
     ]
    }
   ],
   "source": [
    "import Augmentor\n",
    "p = Augmentor.Pipeline('/home/belal/anaconda3/envs/tensorflow2/models-master/research/model/triplet/work_dir/validation/1/')\n",
    "\n",
    "#You can then add operations to the Pipeline object p as follows:\n",
    "\n",
    "p.rotate(probability=0.7, max_left_rotation=20, max_right_rotation=20)\n",
    "p.zoom(probability=0.2, min_factor=1.1, max_factor=1.5)\n",
    "p.flip_left_right(probability=0.5)\n",
    "#p.flip_top_bottom(probability=0.5)\n",
    "p.resize(probability=1.0, width=150, height=150)\n",
    "p.sample(100, multi_threaded=True)\n",
    "#p.featurewise_std_normalization(probaility=1.0)\n",
    "#p.shear_range(probability=0.2)\n",
    "#p.zca_whitening(probability=1)\n",
    "#p.random_distortion(probability=1, grid_width=4, grid_height=4, magnitude=8)\n",
    "#p.Distort(probability=1, grid_width=8, grid_height=8, magnitude=8)\n",
    "#p.fill_mode=(probability=nearest)\n",
    "#p.fold(probability = 0.75, num_of_folds = 4)\n",
    "#p.RandomColor(probability=1,min_factor=0.5, max_factor =1.5)\n",
    "#p.sample(n, multi_threaded=True)\n",
    "p.sample(1300)\n",
    "p.process()"
   ]
  },
  {
   "cell_type": "code",
   "execution_count": null,
   "metadata": {},
   "outputs": [],
   "source": []
  }
 ],
 "metadata": {
  "kernelspec": {
   "display_name": "Python 3",
   "language": "python",
   "name": "python3"
  },
  "language_info": {
   "codemirror_mode": {
    "name": "ipython",
    "version": 3
   },
   "file_extension": ".py",
   "mimetype": "text/x-python",
   "name": "python",
   "nbconvert_exporter": "python",
   "pygments_lexer": "ipython3",
   "version": "3.5.6"
  }
 },
 "nbformat": 4,
 "nbformat_minor": 2
}
